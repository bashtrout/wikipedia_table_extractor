{
 "cells": [
  {
   "cell_type": "code",
   "execution_count": 186,
   "metadata": {},
   "outputs": [],
   "source": [
    "import pandas as pd\n",
    "import requests\n",
    "import wikipediaapi\n",
    "import numpy as np\n",
    "import seaborn as sns\n",
    "import matplotlib.pyplot as plt"
   ]
  },
  {
   "cell_type": "code",
   "execution_count": 255,
   "metadata": {},
   "outputs": [],
   "source": [
    "#find desired wikipedia article\n",
    "page = wikipediaapi.Wikipedia('ru').page('Население Архангельской области')\n",
    "#get url\n",
    "url = requests.get(page.fullurl).text\n",
    "#and extract table\n",
    "df = pd.read_html(url, match='Численность населения', skiprows = {0,1,3,5,7,9,11}, na_values= 0)[0]"
   ]
  },
  {
   "cell_type": "code",
   "execution_count": 256,
   "metadata": {},
   "outputs": [],
   "source": [
    "#table extracted as pandas dataframe, return it to numpy array\n",
    "df = df.values\n",
    "#reshape it and return to pandas df\n",
    "df = pd.DataFrame(df.reshape(df.size,1))\n",
    "# drop NA values\n",
    "df.dropna(inplace = True)"
   ]
  },
  {
   "cell_type": "code",
   "execution_count": 257,
   "metadata": {},
   "outputs": [],
   "source": [
    "#reverse df\n",
    "r_df = df.iloc[::-1]\n",
    "#reset index\n",
    "r_df.reset_index(drop = True, inplace = True)"
   ]
  },
  {
   "cell_type": "code",
   "execution_count": 258,
   "metadata": {},
   "outputs": [],
   "source": [
    "#values in cell include artefacts, delete it\n",
    "r_df[0] = r_df[0].str.replace('\\xa0','')\n",
    "r_df[0] = r_df[0].str.replace('↘','')\n",
    "r_df[0] = r_df[0].str.replace('↗','')"
   ]
  },
  {
   "cell_type": "code",
   "execution_count": 259,
   "metadata": {},
   "outputs": [],
   "source": [
    "#current year is 2020, create array, where 2020 - in first position, 2019 - second etc.  \n",
    "year = np.arange(2020, 2020-r_df.shape[0], -1)\n",
    "year = pd.DataFrame(year)\n",
    "#add it as new column  in df\n",
    "r_df['year'] = year\n",
    "#exclude rows, earlier than 1990\n",
    "r_df = r_df[r_df['year']>=1995]\n",
    "#return popultion value to numeric\n",
    "r_df[0] = pd.to_numeric(r_df[0])"
   ]
  },
  {
   "cell_type": "code",
   "execution_count": 260,
   "metadata": {},
   "outputs": [],
   "source": [
    "#create new column. It show ratio of population in year and year before\n",
    "x=[0]\n",
    "for i in range(r_df.shape[0]-1):\n",
    "    X = 100*round(((r_df.values[i+1,0])/(r_df.values[i,0])),3)-100\n",
    "    x.append(X)\n",
    "r_df['ratio'] = x"
   ]
  },
  {
   "cell_type": "code",
   "execution_count": 264,
   "metadata": {},
   "outputs": [
    {
     "data": {
      "text/plain": [
       "<matplotlib.axes._subplots.AxesSubplot at 0xecb5ef0>"
      ]
     },
     "execution_count": 264,
     "metadata": {},
     "output_type": "execute_result"
    },
    {
     "data": {
      "image/png": "[encoded data removed]",
      "text/plain": [
       "<Figure size 1080x504 with 1 Axes>"
      ]
     },
     "metadata": {
      "needs_background": "light"
     },
     "output_type": "display_data"
    }
   ],
   "source": [
    "#and histogramm ratio-year\n",
    "fig, ax = plt.subplots(figsize= (15, 7))\n",
    "sns.barplot(y = r_df['ratio'], x = r_df['year'])"
   ]
  },
  {
   "cell_type": "code",
   "execution_count": null,
   "metadata": {},
   "outputs": [],
   "source": [
    "#What is happened in 2001 AND 2009?"
   ]
  },
  {
   "cell_type": "code",
   "execution_count": null,
   "metadata": {},
   "outputs": [],
   "source": []
  },
  {
   "cell_type": "code",
   "execution_count": null,
   "metadata": {},
   "outputs": [],
   "source": []
  },
  {
   "cell_type": "code",
   "execution_count": null,
   "metadata": {},
   "outputs": [],
   "source": []
  },
  {
   "cell_type": "code",
   "execution_count": null,
   "metadata": {},
   "outputs": [],
   "source": []
  },
  {
   "cell_type": "code",
   "execution_count": null,
   "metadata": {},
   "outputs": [],
   "source": []
  },
  {
   "cell_type": "code",
   "execution_count": null,
   "metadata": {},
   "outputs": [],
   "source": []
  },
  {
   "cell_type": "code",
   "execution_count": null,
   "metadata": {},
   "outputs": [],
   "source": []
  },
  {
   "cell_type": "code",
   "execution_count": null,
   "metadata": {},
   "outputs": [],
   "source": []
  },
  {
   "cell_type": "code",
   "execution_count": null,
   "metadata": {},
   "outputs": [],
   "source": []
  },
  {
   "cell_type": "code",
   "execution_count": null,
   "metadata": {},
   "outputs": [],
   "source": []
  },
  {
   "cell_type": "code",
   "execution_count": null,
   "metadata": {},
   "outputs": [],
   "source": []
  }
 ],
 "metadata": {
  "kernelspec": {
   "display_name": "Python 3",
   "language": "python",
   "name": "python3"
  },
  "language_info": {
   "codemirror_mode": {
    "name": "ipython",
    "version": 3
   },
   "file_extension": ".py",
   "mimetype": "text/x-python",
   "name": "python",
   "nbconvert_exporter": "python",
   "pygments_lexer": "ipython3",
   "version": "3.7.1"
  }
 },
 "nbformat": 4,
 "nbformat_minor": 2
}
